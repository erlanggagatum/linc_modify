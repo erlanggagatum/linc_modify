{
 "cells": [
  {
   "cell_type": "code",
   "execution_count": 1,
   "metadata": {},
   "outputs": [
    {
     "name": "stderr",
     "output_type": "stream",
     "text": [
      "/home/gatum/.conda/envs/linc_modify/lib/python3.10/site-packages/tqdm/auto.py:21: TqdmWarning: IProgress not found. Please update jupyter and ipywidgets. See https://ipywidgets.readthedocs.io/en/stable/user_install.html\n",
      "  from .autonotebook import tqdm as notebook_tqdm\n"
     ]
    },
    {
     "name": "stdout",
     "output_type": "stream",
     "text": [
      "[2024-05-09 11:15:04,789] [INFO] [real_accelerator.py:191:get_accelerator] Setting ds_accelerator to cuda (auto detect)\n"
     ]
    }
   ],
   "source": [
    "import os\n",
    "os.chdir('..')\n",
    "# os.chdir('eval')\n",
    "# os.chdir('../eval')\n",
    "%load_ext autoreload\n",
    "\n",
    "import hashlib\n",
    "import time\n",
    "import random\n",
    "import json\n",
    "import openai\n",
    "import transformers\n",
    "import fnmatch\n",
    "import datasets\n",
    "import pathlib\n",
    "import torch\n",
    "\n",
    "from functools import cache\n",
    "from collections import Counter\n",
    "from datasets import load_dataset\n",
    "from warnings import warn\n",
    "from abc import abstractmethod, ABC\n",
    "from eval import tasks\n",
    "from eval.tasks import utils\n",
    "from eval.utils import TokenizedDataset, complete_code\n",
    "from eval.tasks.utils import evaluate, convert_to_nltk_rep\n",
    "# from eval.generation import parallel_generations\n",
    "from diskcache import Cache\n",
    "from concurrent.futures import ThreadPoolExecutor\n",
    "\n",
    "\n",
    "from torch.utils.data.dataloader import DataLoader\n",
    "from transformers import StoppingCriteria, StoppingCriteriaList\n",
    "from accelerate.utils import set_seed\n",
    "\n",
    "from accelerate import Accelerator, DeepSpeedPlugin\n",
    "from transformers import AutoModelForCausalLM, AutoTokenizer, HfArgumentParser\n",
    "\n",
    "from eval import tasks\n",
    "from eval.generation import parallel_generations\n",
    "from eval.args import RunnerArguments, HFArguments, OAIArguments, GenerationArguments\n",
    "# from eval.evaluator import HFEvaluator, OAIEvaluator\n",
    "from eval.tasks import ALL_TASKS, TASK_REGISTRY\n",
    "\n",
    "\n",
    "transformers.logging.set_verbosity_error()\n",
    "datasets.logging.set_verbosity_error()"
   ]
  },
  {
   "cell_type": "markdown",
   "metadata": {},
   "source": [
    "FOL (Usage Example)"
   ]
  },
  {
   "cell_type": "code",
   "execution_count": 2,
   "metadata": {},
   "outputs": [
    {
     "data": {
      "text/plain": [
       "'/home/gatum/Projects/Neurosymbolic-AI/linc2/linc_modify'"
      ]
     },
     "execution_count": 2,
     "metadata": {},
     "output_type": "execute_result"
    }
   ],
   "source": [
    "os.getcwd()"
   ]
  },
  {
   "cell_type": "code",
   "execution_count": 3,
   "metadata": {},
   "outputs": [
    {
     "data": {
      "text/plain": [
       "'True'"
      ]
     },
     "execution_count": 3,
     "metadata": {},
     "output_type": "execute_result"
    }
   ],
   "source": [
    "premises = [ \"∀x (RomanceLanguage(x) → IndoEuropeanLanguage(x))\", \"∀x (RomanceLanguage(x) → MemberOf(x, romancefamily))\", \"∀x ∀y ∀z ((MemberOf(x, z) ∧ MemberOf(y, z)) → (Related(x, y) ∧ Related(y, x)))\", \"RomanceLanguage(french) ∧ RomanceLanguage(spanish)\", \"Related(german, spanish)\", \"∀x (¬Related(basque, x))\" ]\n",
    "conclusion = 'IndoEuropeanLanguage(french)'\n",
    "\n",
    "premises_prep = [utils.convert_to_nltk_rep(p) for p in premises]\n",
    "conclusion_prep = utils.convert_to_nltk_rep(conclusion)\n",
    "\n",
    "utils.evaluate(premises_prep, conclusion_prep)"
   ]
  },
  {
   "cell_type": "markdown",
   "metadata": {},
   "source": [
    "FOL FROM LLAMA + ex_ctxs ONLY"
   ]
  },
  {
   "cell_type": "code",
   "execution_count": 42,
   "metadata": {},
   "outputs": [],
   "source": [
    "premises = '''TEXT: All dispensable things are environment-friendly.\n",
    "FOL: all x. (Dispensable(x) -> EnvironmentFriendly(x))\n",
    "TEXT: All woodware is dispensable.\n",
    "FOL: all x. (Woodware(x) -> Dispensable(x))\n",
    "TEXT: All paper is woodware.\n",
    "FOL: all x. (Paper(x) -> Woodware(x))\n",
    "TEXT: No good things are bad.\n",
    "FOL: all x. (Good(x) -> -Bad(x))\n",
    "TEXT: All environment-friendly things are good.\n",
    "FOL: all x. (EnvironmentFriendly(x) -> Good(x))\n",
    "TEXT: A worksheet is either paper or is environment-friendly.\n",
    "FOL: ((Paper(Worksheet) & -EnvironmentFriendly(Worksheet)) | (-Paper(Worksheet) & EnvironmentFriendly(Worksheet)))\n",
    "TEXT: A worksheet is not dispensable.\n",
    "FOL: -Dispensable(Worksheet)\n",
    "\n",
    "TEXT: All athletes are good at sports.\n",
    "FOL: all x. (Athlete(x) -> GoodAtSports(x))\n",
    "TEXT: All Olympic gold medal winners are good athletes.\n",
    "FOL: all x. (OlympicGoldMedalWinner(x) -> Athlete(x))\n",
    "TEXT: No scientists are good at sports.\n",
    "FOL: all x. (Scientist(x) -> -GoodAtSports(x))\n",
    "TEXT: All Nobel laureates are scientists.\n",
    "FOL: all x. (NobelLaureate(x) -> Scientist(x))\n",
    "TEXT: Amy is good at sports or Amy is an Olympic gold medal winner.\n",
    "FOL: GoodAtSports(Amy) | OlympicGoldMedalWinner(Amy)\n",
    "TEXT: If Amy is not a Nobel laureate, then Amy is not an Olympic gold medal winner.\n",
    "FOL: -NobelLaureate(Amy) -> -OlympicGoldMedalWinner(Amy)\n",
    "TEXT: If Amy is not an Olympic gold medal winner, then Amy is a Nobel laureate.\n",
    "FOL: -OlympicGoldMedalWinner(Amy) -> NobelLaureate(Amy)\n",
    "\n",
    "TEXT: A La Liga soccer team ranks higher than another if it receives more points.\n",
    "FOL: all x. all y. (LaLiga(x) & LaLiga(y) & MorePoints(x, y) -> HigherRank(x, y))\n",
    "TEXT: If two La Liga soccer teams recieve the same points, the team which recieves more points from the games between the two teams ranks higher.\n",
    "FOL: all x. all y. (LaLiga(x) & LaLiga(y) & -MorePoints(x, y) & -MorePoints(y, x) & MorePointsInGameBetween(x, y) -> HigherRank(x, y))\n",
    "TEXT: Real Madrid and Barcelona are both La Liga soccer teams.\n",
    "FOL: LaLiga(RealMadrid) & LaLiga(Barcelona)\n",
    "TEXT: In La Liga 2021-2022, Real Madrid recieves 86 points and Barcelon recieves 73 points.\n",
    "FOL: MorePoints(RealMadrid, Barcelona)\n",
    "TEXT: In La Liga 2021-2022, Real Madrid and Barcelona both recieve 3 points from the games between them.\n",
    "FOL: -MorePointsInGameBetween(RealMadrid, Barcelona) & -MorePointsInGameBetween(Barcelona, RealMadrid)\n",
    "TEXT: In La Liga 2021-2022, Real Madrid ranks higher than Barcelona.\n",
    "FOL: HigherRank(RealMadrid, Barcelona)\n",
    "\n",
    "TEXT: Skateboarding is an action sport that involves riding and performing tricks using a skateboard, as well as a recreational activity, an art form, an entertainment industry job, and a method of transportation.\n",
    "FOL: Skateboarding(Skateboarding)\n",
    "TEXT: Originating in the United States, skateboarding has been shaped and influenced by many skateboarders throughout the years.\n",
    "FOL: SkateboardingOriginatedInTheUnitedStates(Skateboarding)\n",
    "TEXT: A 2009 report found that the skateboarding market is worth an estimated $4.8 billion in annual revenue, with 11.08 million active skateboarders in the world.\n",
    "FOL: SkateboardingMarketWorth4Point8Billion(Skateboarding)\n",
    "TEXT: In the third quarter of 2021, Delivery Hero processed 791 million orders—that equals a year-on-year growth of 52%.\n",
    "FOL: DeliveryHeroProcessed791MillionOrders(In2021)\n",
    "\n",
    "TEXT: Skateboarder was primarily a digital skateboarding publication that produces a limited run of hard copy versions that are sold in skateboard shops.\n",
    "FOL: SkateboarderWasAPrimaryDigitalPublication(Skateboarder)\n",
    "TEXT: The publication was the United States' first skateboarding magazine.\n",
    "FOL: SkateboarderWasTheFirstSkateboardingMagazine(Skateboarder)\n",
    "TEXT: In general, and in contrast to recent legal precedents in Canada and Australia, Delivery Hero does not classify these couriers as employees.\n",
    "FOL: DeliveryHeroDoesNotClassifyCouriersAsEmployees(DeliveryHero)\n",
    "TEXT: A delivery or ball in cricket is a single action of bowling a cricket ball toward the batter.\n",
    "FOL: DeliveryOrBallInCricket(SingleActionOfBowlingACricketBall)\n",
    "\n",
    "TEXT: Cabell Calloway III (December 25, 1907 – November 18, 1994) was an American jazz singer and bandleader.\n",
    "FOL: CabellCallowayIIIWasAnAmericanJazzSingerAndBandleader(CabellCallowayIII)\n",
    "TEXT: Death Cab for Cutie (commonly abbreviated to DCFC or Death Cab) is an American rock band formed in Bellingham, Washington, in 1997.\n",
    "FOL: DeathCabForCutieIsAnAmericanRockBand(FormedIn1997)\n",
    "\n",
    "TEXT: Skateboarder is the man by the bags awaiting.\n",
    "FOL: SkateboarderIsTheManByTheBagsAwaiting(Skateboarder)'''"
   ]
  },
  {
   "cell_type": "code",
   "execution_count": 45,
   "metadata": {},
   "outputs": [],
   "source": [
    "premises = \"\"\"\n",
    "\n",
    "<EVALUATE>\n",
    "TEXT:\tSkateboarding is an action sport that involves riding and performing tricks using a skateboard, as well as a recreational activity, an art form, an entertainment industry job, and a method of transportation.\n",
    "FOL:\tActionSport(Skateboarding) & RecreationalActivity(Skateboarding) & ArtForm(Skateboarding) & EntertainmentIndustryJob(Skateboarding) & TransportationMethod(Skateboarding)\n",
    "TEXT: Originating in the United States, skateboarding has been shaped and influenced by many skateboarders throughout the years.\n",
    "FOL: OriginatedIn(Skateboarding, UnitedStates) & InfluencedByMany(Skateboarding, Skateboarders)\n",
    "\n",
    "TEXT: A 2009 report found that the skateboarding market is worth an estimated $4.8 billion in annual revenue, with 11.08 million active skateboarders in the world.\n",
    "FOL: MarketWorth(Skateboarding, 4.8Billion) & ActiveSkateboarders(World, 11.08Million)\n",
    "\n",
    "TEXT: In 2016, it was announced that skateboarding would be represented at the 2020 Summer Olympics in Tokyo, for both male and female teams.\n",
    "FOL: RepresentedAt(Skateboarding, SummerOlympics2020)\n",
    "\n",
    "TEXT: Since the 1970s, skateparks have been constructed specifically for use by skateboarders, freestyle BMXers, aggressive skaters, and more recently, scooters.\n",
    "FOL: ConstructedFor(Skateparks, [Skateboarders, FreestyleBMXers, AggressiveSkaters, Scooters])\n",
    "\n",
    "TEXT: Skateboarding has become controversial in areas in which the activity, although legal, has damaged curbs, stoneworks, steps, benches, plazas, and parks.\n",
    "FOL: ControversialInAreas(Skateboarding, [Curbs, Stoneworks, Steps, Benches, Plazas, Parks])\n",
    "\n",
    "TEXT: Skateboarder was primarily a digital skateboarding publication that produces a limited run of hard copy versions that are sold in skateboard shops.\n",
    "FOL: PublicationType(Skateboarder, Digital) & SoldIn(Skateboarder, SkateboardShops)\n",
    "\n",
    "TEXT: The publication was the United States' first skateboarding magazine.\n",
    "FOL: FirstSkateboardingMagazine(Skateboarder, UnitedStates)\n",
    "\n",
    "TEXT: In August 2013, its editor was Jaime Owens and its publisher was Jamey Stone.\n",
    "FOL: Editor(Skateboarder, JaimeOwens, August2013) & Publisher(Skateboarder, JameyStone, August2013)\n",
    "\n",
    "TEXT: On August 19, 2013, the magazine's owner GrindMedia announced that the publication would cease production on October 15, 2013.\n",
    "FOL: CeaseProduction(Skateboarder, October15_2013)\n",
    "\n",
    "TEXT: A skateboard is a type of sports equipment used for skateboarding.\n",
    "FOL: SportsEquipment(Skateboard) & UsedFor(Skateboard, Skateboarding)\n",
    "\n",
    "TEXT: The skateboard moves by pushing with one foot while the other foot remains balanced on the board, or by pumping one's legs in structures such as a bowl or half pipe.\n",
    "FOL: MovesBy(Skateboard, [PushingOneFoot, PumpingLegs])\n",
    "\n",
    "TEXT: A skateboard can also be used by standing on the deck while on a downward slope and allowing gravity to propel the board and the rider.\n",
    "FOL: UsedBy(Skateboard, [StandingOnDeck, DownwardSlope])\n",
    "\n",
    "TEXT: If the rider's leading foot is their left foot, they are said to ride \"regular\". Conversely, they are said to ride \"goofy\" if their leading foot is their right foot.\n",
    "FOL: RideStyle(LeftFoot, Regular) & RideStyle(RightFoot, Goofy)\n",
    "\n",
    "TEXT: The two main types of skateboards are the longboard and shortboard.\n",
    "FOL: MainTypesOfSkateboards([Longboard, Shortboard])\n",
    "\n",
    "TEXT: The shape of the board is also important: the skateboard must be concaved to perform tricks.\n",
    "FOL: ImportantShape(Skateboard, Concaved)\n",
    "\n",
    "TEXT: Skateboarder is the man by the bags awaiting.\n",
    "FOL: ManByBagsAwaiting(Skateboarder)\n",
    "<EVALUATE/>\n",
    "\"\"\""
   ]
  },
  {
   "cell_type": "code",
   "execution_count": 49,
   "metadata": {},
   "outputs": [],
   "source": [
    "premises = '''\n",
    "TEXT: All skateboarding is an action sport that involves riding and performing tricks using a skateboard, as well as a recreational activity, an art form, an entertainment industry job, and a method of transportation.\n",
    "FOL: all x. (Skateboarding(x) -> (ActionSport(x) & (Riding(x) & PerformingTricks(x)) & (RecreationalActivity(x) & ArtForm(x) & EntertainmentIndustryJob(x) & MethodOfTransportation(x))))\n",
    "\n",
    "TEXT: Skateboarding has been shaped and influenced by many skateboarders throughout the years.\n",
    "FOL: all x. (Skateboarding(x) -> (Shaped(x) & Influenced(x)))\n",
    "\n",
    "TEXT: Skateboarding has become controversial in areas in which the activity, although legal, has damaged curbs, stoneworks, steps, benches, plazas, and parks.\n",
    "FOL: all x. (Skateboarding(x) -> (Controversial(x) & Damaged(x)))\n",
    "\n",
    "TEXT: A skateboard is a type of sports equipment used for skateboarding.\n",
    "FOL: all x. (Skateboard(x) -> (SportsEquipment(x) & UsedForSkateboarding(x)))\n",
    "\n",
    "TEXT: The skateboard moves by pushing with one foot while the other foot remains balanced on the board, or by pumping one's legs in structures such as a bowl or half pipe.\n",
    "FOL: all x. (Skateboard(x) -> (Moves(x) & (Pushing(x) & Balanced(x)) | Pumping(x)))\n",
    "\n",
    "TEXT: A train (from Old French trahiner, from Latin trahere, \"to pull, to draw\") is a series of connected vehicles that run along a railway track and transport people or freight.\n",
    "FOL: all x. (Train(x) -> (SeriesOfConnectedVehicles(x) & RunAlongRailwayTrack(x) & Transport(x)))\n",
    "\n",
    "TEXT: Trains have their roots in wagonways, which used railway tracks and were powered by horses or pulled by cables.\n",
    "FOL: all x. (Train(x) -> (RootsInWagonways(x) & UsedRailwayTracks(x) & PoweredByHorsesOrCables(x)))\n",
    "\n",
    "TEXT: Delivery Hero SE is a German multinational online food ordering and food delivery company based in Berlin, Germany.\n",
    "FOL: all x. (DeliveryHero(x) -> (GermanMultinational(x) & OnlineFoodOrdering(x) & FoodDelivery(x) & BasedInBerlin(x)))\n",
    "\n",
    "TEXT: A delivery or ball in cricket is a single action of bowling a cricket ball toward the batter.\n",
    "FOL: all x. (Delivery(x) -> (SingleAction(x) & Bowling(x) & TowardBatter(x)))\n",
    "\n",
    "TEXT: Cabell Calloway III (December 25, 1907 – November 18, 1994) was an American jazz singer and bandleader.\n",
    "FOL: all x. (CabellCalloway(x) -> (American(x) & JazzSinger(x) & Bandleader(x)))\n",
    "\n",
    "TEXT: Death Cab for Cutie (commonly abbreviated to DCFC or Death Cab) is an American rock band formed in Bellingham, Washington, in 1997.\n",
    "FOL: all x. (DeathCabForCutie(x) -> (American(x) & RockBand(x) & FormedInBellingham(x) & FormedIn1997(x)))\n",
    "\n",
    "TEXT: Skateboarder is the man by the bags awaiting.\n",
    "FOL: Skateboarder(x) -> ManByBagsAwaiting(x)\n",
    "\n",
    "TEXT: Train is the man by the bags awaiting.\n",
    "FOL: Train(x) -> ManByBagsAwaiting(x)\n",
    "\n",
    "TEXT: Delivery is the man by the bags awaiting.\n",
    "FOL: Delivery(x) -> ManByBagsAwaiting(x)\n",
    "\n",
    "TEXT: Cab is the man by the bags awaiting.\n",
    "FOL: Cab(x) -> ManByBagsAwaiting(x)\n",
    "'''"
   ]
  },
  {
   "cell_type": "code",
   "execution_count": 50,
   "metadata": {},
   "outputs": [
    {
     "name": "stdout",
     "output_type": "stream",
     "text": [
      "all x. (Skateboarding(x) -> (ActionSport(x) & (Riding(x) & PerformingTricks(x)) & (RecreationalActivity(x) & ArtForm(x) & EntertainmentIndustryJob(x) & MethodOfTransportation(x))))\n",
      "all x. (Skateboarding(x) -> (Shaped(x) & Influenced(x)))\n",
      "all x. (Skateboarding(x) -> (Controversial(x) & Damaged(x)))\n",
      "all x. (Skateboard(x) -> (SportsEquipment(x) & UsedForSkateboarding(x)))\n",
      "all x. (Skateboard(x) -> (Moves(x) & (Pushing(x) & Balanced(x)) | Pumping(x)))\n",
      "all x. (Train(x) -> (SeriesOfConnectedVehicles(x) & RunAlongRailwayTrack(x) & Transport(x)))\n",
      "all x. (Train(x) -> (RootsInWagonways(x) & UsedRailwayTracks(x) & PoweredByHorsesOrCables(x)))\n",
      "all x. (DeliveryHero(x) -> (GermanMultinational(x) & OnlineFoodOrdering(x) & FoodDelivery(x) & BasedInBerlin(x)))\n",
      "all x. (Delivery(x) -> (SingleAction(x) & Bowling(x) & TowardBatter(x)))\n",
      "all x. (CabellCalloway(x) -> (American(x) & JazzSinger(x) & Bandleader(x)))\n",
      "all x. (DeathCabForCutie(x) -> (American(x) & RockBand(x) & FormedInBellingham(x) & FormedIn1997(x)))\n",
      "Skateboarder(x) -> ManByBagsAwaiting(x)\n",
      "Train(x) -> ManByBagsAwaiting(x)\n",
      "Delivery(x) -> ManByBagsAwaiting(x)\n",
      "Cab(x) -> ManByBagsAwaiting(x)\n",
      "15\n"
     ]
    }
   ],
   "source": [
    "premises_only = []\n",
    "for line in premises.splitlines():\n",
    "    splitted = (line.split('FOL: '))\n",
    "    if len(splitted) >= 2:\n",
    "        print(splitted[1])\n",
    "        premises_only.append(splitted[1])\n",
    "# print\n",
    "print(len(premises_only))\n",
    "conclusion_only = premises_only.pop()"
   ]
  },
  {
   "cell_type": "code",
   "execution_count": 51,
   "metadata": {},
   "outputs": [
    {
     "data": {
      "text/plain": [
       "(['all x. (Skateboarding(x) -> (ActionSport(x) & (Riding(x) & PerformingTricks(x)) & (RecreationalActivity(x) & ArtForm(x) & EntertainmentIndustryJob(x) & MethodOfTransportation(x))))',\n",
       "  'all x. (Skateboarding(x) -> (Shaped(x) & Influenced(x)))',\n",
       "  'all x. (Skateboarding(x) -> (Controversial(x) & Damaged(x)))',\n",
       "  'all x. (Skateboard(x) -> (SportsEquipment(x) & UsedForSkateboarding(x)))',\n",
       "  'all x. (Skateboard(x) -> (Moves(x) & (Pushing(x) & Balanced(x)) | Pumping(x)))',\n",
       "  'all x. (Train(x) -> (SeriesOfConnectedVehicles(x) & RunAlongRailwayTrack(x) & Transport(x)))',\n",
       "  'all x. (Train(x) -> (RootsInWagonways(x) & UsedRailwayTracks(x) & PoweredByHorsesOrCables(x)))',\n",
       "  'all x. (DeliveryHero(x) -> (GermanMultinational(x) & OnlineFoodOrdering(x) & FoodDelivery(x) & BasedInBerlin(x)))',\n",
       "  'all x. (Delivery(x) -> (SingleAction(x) & Bowling(x) & TowardBatter(x)))',\n",
       "  'all x. (CabellCalloway(x) -> (American(x) & JazzSinger(x) & Bandleader(x)))',\n",
       "  'all x. (DeathCabForCutie(x) -> (American(x) & RockBand(x) & FormedInBellingham(x) & FormedIn1997(x)))',\n",
       "  'Skateboarder(x) -> ManByBagsAwaiting(x)',\n",
       "  'Train(x) -> ManByBagsAwaiting(x)',\n",
       "  'Delivery(x) -> ManByBagsAwaiting(x)'],\n",
       " 'Cab(x) -> ManByBagsAwaiting(x)')"
      ]
     },
     "execution_count": 51,
     "metadata": {},
     "output_type": "execute_result"
    }
   ],
   "source": [
    "premises_only, conclusion_only"
   ]
  },
  {
   "cell_type": "markdown",
   "metadata": {},
   "source": [
    "### Conclusion"
   ]
  },
  {
   "cell_type": "code",
   "execution_count": 52,
   "metadata": {},
   "outputs": [
    {
     "name": "stdout",
     "output_type": "stream",
     "text": [
      "Uncertain\n"
     ]
    }
   ],
   "source": [
    "premises_prep = [utils.convert_to_nltk_rep(p) for p in premises_only[0]]\n",
    "conclusion_prep = utils.convert_to_nltk_rep(conclusion_only)\n",
    "\n",
    "try:\n",
    "    # returns true, false, uncertain\n",
    "    print(utils.evaluate(premises_only, conclusion_only)) \n",
    "except:\n",
    "    # return syntax error\n",
    "    print('Syntax error')"
   ]
  },
  {
   "cell_type": "code",
   "execution_count": 53,
   "metadata": {},
   "outputs": [
    {
     "data": {
      "text/plain": [
       "'Uncertain'"
      ]
     },
     "execution_count": 53,
     "metadata": {},
     "output_type": "execute_result"
    }
   ],
   "source": [
    "utils.evaluate(premises_only, conclusion_only)"
   ]
  }
 ],
 "metadata": {
  "kernelspec": {
   "display_name": "linc2",
   "language": "python",
   "name": "python3"
  },
  "language_info": {
   "codemirror_mode": {
    "name": "ipython",
    "version": 3
   },
   "file_extension": ".py",
   "mimetype": "text/x-python",
   "name": "python",
   "nbconvert_exporter": "python",
   "pygments_lexer": "ipython3",
   "version": "3.10.14"
  }
 },
 "nbformat": 4,
 "nbformat_minor": 2
}
