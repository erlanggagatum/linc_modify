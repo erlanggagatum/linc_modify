{
 "cells": [
  {
   "cell_type": "code",
   "execution_count": 35,
   "metadata": {},
   "outputs": [
    {
     "name": "stdout",
     "output_type": "stream",
     "text": [
      "The autoreload extension is already loaded. To reload it, use:\n",
      "  %reload_ext autoreload\n"
     ]
    }
   ],
   "source": [
    "import os\n",
    "os.chdir('../eval')\n",
    "%load_ext autoreload\n",
    "\n",
    "import hashlib\n",
    "import time\n",
    "import random\n",
    "import json\n",
    "import openai\n",
    "import transformers\n",
    "import fnmatch\n",
    "import datasets\n",
    "import pathlib\n",
    "import torch\n",
    "\n",
    "from functools import cache\n",
    "from collections import Counter\n",
    "from datasets import load_dataset\n",
    "from warnings import warn\n",
    "from abc import abstractmethod, ABC\n",
    "from eval import tasks\n",
    "from tasks import utils\n",
    "from eval.utils import TokenizedDataset, complete_code\n",
    "from eval.tasks.utils import evaluate, convert_to_nltk_rep\n",
    "# from eval.generation import parallel_generations\n",
    "from diskcache import Cache\n",
    "from concurrent.futures import ThreadPoolExecutor\n",
    "\n",
    "\n",
    "from torch.utils.data.dataloader import DataLoader\n",
    "from transformers import StoppingCriteria, StoppingCriteriaList\n",
    "from accelerate.utils import set_seed\n",
    "\n",
    "from accelerate import Accelerator, DeepSpeedPlugin\n",
    "from transformers import AutoModelForCausalLM, AutoTokenizer, HfArgumentParser\n",
    "\n",
    "from eval import tasks\n",
    "from eval.generation import parallel_generations\n",
    "from eval.args import RunnerArguments, HFArguments, OAIArguments, GenerationArguments\n",
    "# from eval.evaluator import HFEvaluator, OAIEvaluator\n",
    "from eval.tasks import ALL_TASKS, TASK_REGISTRY\n",
    "\n",
    "\n",
    "transformers.logging.set_verbosity_error()\n",
    "datasets.logging.set_verbosity_error()"
   ]
  },
  {
   "cell_type": "markdown",
   "metadata": {},
   "source": [
    "FOL"
   ]
  },
  {
   "cell_type": "code",
   "execution_count": 48,
   "metadata": {},
   "outputs": [
    {
     "data": {
      "text/plain": [
       "'True'"
      ]
     },
     "execution_count": 48,
     "metadata": {},
     "output_type": "execute_result"
    }
   ],
   "source": [
    "premises = [ \"∀x (RomanceLanguage(x) → IndoEuropeanLanguage(x))\", \"∀x (RomanceLanguage(x) → MemberOf(x, romancefamily))\", \"∀x ∀y ∀z ((MemberOf(x, z) ∧ MemberOf(y, z)) → (Related(x, y) ∧ Related(y, x)))\", \"RomanceLanguage(french) ∧ RomanceLanguage(spanish)\", \"Related(german, spanish)\", \"∀x (¬Related(basque, x))\" ]\n",
    "conclusion = 'IndoEuropeanLanguage(french)'\n",
    "\n",
    "premises_prep = [utils.convert_to_nltk_rep(p) for p in premises]\n",
    "conclusion_prep = utils.convert_to_nltk_rep(conclusion)\n",
    "\n",
    "utils.evaluate(premises_prep, conclusion_prep)"
   ]
  }
 ],
 "metadata": {
  "kernelspec": {
   "display_name": "linc2",
   "language": "python",
   "name": "python3"
  },
  "language_info": {
   "codemirror_mode": {
    "name": "ipython",
    "version": 3
   },
   "file_extension": ".py",
   "mimetype": "text/x-python",
   "name": "python",
   "nbconvert_exporter": "python",
   "pygments_lexer": "ipython3",
   "version": "3.10.14"
  }
 },
 "nbformat": 4,
 "nbformat_minor": 2
}
